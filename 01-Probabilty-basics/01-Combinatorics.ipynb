{
 "cells": [
  {
   "cell_type": "markdown",
   "metadata": {
    "tags": []
   },
   "source": [
    "<img src=\"../images/00-combinatorics-banner.png\" />"
   ]
  },
  {
   "cell_type": "markdown",
   "metadata": {
    "tags": []
   },
   "source": [
    "# <img src=\"../images/01-rubic.png\" width=\"24\"/> ***Combinatorial Analysis***\n",
    "---\n",
    "Combinatorial mathematics, the field of mathematics concerned with problems of selection, arrangement, and operation within a ***finite*** or ***discrete system***."
   ]
  },
  {
   "cell_type": "markdown",
   "metadata": {},
   "source": [
    "## <img src=\"../images/02-table-of-contents.png\" width=\"21\"/> Table of Contents \n",
    "\n",
    "---\n",
    "\n",
    "- [Counting Principle](#counting-principle) "
   ]
  },
  {
   "cell_type": "markdown",
   "metadata": {},
   "source": [
    "<a class=\"anchor\" id=\"counting-principle\"></a>\n",
    "\n",
    "<div id=\"counting\" style=\"line-height:200%;\">\n",
    "\t<font color=#0003B8 size=5.89>\n",
    "Counting Principle  \n",
    "        </font>    \n",
    "</div> \n",
    "\n",
    "---        \n",
    "        \n",
    "The fundamental counting principle states that if there are `p` ways to do one thing, and `q` ways to do another thing, then there are `p×q` ways to do both things. If just one event has to be occured there are `p+q` ways to occur one thing.\n",
    "        \n",
    "<a class=\"anchor\" id=\"counting-principle\"></a>\n",
    "\n",
    "<div id=\"counting\" style=\"line-height:200%;\">\n",
    "\t<font color=#0D9000 size=2.5>\n",
    "<b>Example:</b> </font>\n",
    "There are 2 ways between city A and city B, and there are 4 ways between city B and city C. How many possible states from city A to city C and vice versa with no duplicated passing way exist? \n",
    "            "
   ]
  },
  {
   "cell_type": "markdown",
   "metadata": {
    "jp-MarkdownHeadingCollapsed": true,
    "tags": []
   },
   "source": [
    "Example"
   ]
  },
  {
   "cell_type": "markdown",
   "metadata": {},
   "source": [
    "<img src=\"../images/02-table-of-contents.png\" width=\"21\"/>"
   ]
  },
  {
   "cell_type": "code",
   "execution_count": null,
   "metadata": {},
   "outputs": [],
   "source": []
  }
 ],
 "metadata": {
  "kernelspec": {
   "display_name": "Python 3 (ipykernel)",
   "language": "python",
   "name": "python3"
  },
  "language_info": {
   "codemirror_mode": {
    "name": "ipython",
    "version": 3
   },
   "file_extension": ".py",
   "mimetype": "text/x-python",
   "name": "python",
   "nbconvert_exporter": "python",
   "pygments_lexer": "ipython3",
   "version": "3.9.12"
  },
  "vscode": {
   "interpreter": {
    "hash": "916dbcbb3f70747c44a77c7bcd40155683ae19c65e1c03b4aa3499c5328201f1"
   }
  }
 },
 "nbformat": 4,
 "nbformat_minor": 4
}
