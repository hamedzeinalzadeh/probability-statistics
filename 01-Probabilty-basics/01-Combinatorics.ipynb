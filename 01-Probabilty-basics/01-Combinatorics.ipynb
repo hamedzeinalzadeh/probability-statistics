{
 "cells": [
  {
   "cell_type": "markdown",
   "metadata": {
    "tags": []
   },
   "source": [
    "<img src=\"../images/00-combinatorics-banner.png\" />"
   ]
  },
  {
   "cell_type": "markdown",
   "metadata": {
    "tags": []
   },
   "source": [
    "# <img src=\"../images/01-rubic.png\" width=\"24\"/> ***Combinatorial Analysis***\n",
    "---\n",
    "Combinatorial mathematics, the field of mathematics concerned with problems of selection, arrangement, and operation within a ***finite*** or ***discrete system***."
   ]
  },
  {
   "cell_type": "markdown",
   "metadata": {},
   "source": [
    "## <img src=\"../images/02-table-of-contents.png\" width=\"21\"/> Table of Contents \n",
    "\n",
    "---\n",
    "\n",
    "- [Counting Principle](#counting-principle) \n",
    "- [Factorial](#factorial) \n",
    "- [Combination](#combination) "
   ]
  },
  {
   "cell_type": "markdown",
   "metadata": {},
   "source": [
    "<a class=\"anchor\" id=\"counting-principle\"></a>\n",
    "\n",
    "<div id=\"counting\" style=\"line-height:200%;\">\n",
    "\t<font color=#025200 size=5.89>\n",
    "Counting Principle  \n",
    "        </font>    \n",
    "</div> \n",
    "\n",
    "---        \n",
    "        \n",
    "The fundamental counting principle states that if there are ***`p`*** ways to do one thing, and ***`q`*** ways to do another thing, then there are ***`p×q`*** ways to do both things. If just one event has to be occured there are ***`p+q`*** ways to occur one thing.\n",
    "\n",
    "<div id=\"example1\" style=\"line-height:200%;\">\n",
    "\t<font color=#0D9000 size=2.5>\n",
    "<b>Example1:</b> </font>\n",
    "    \n",
    "There are ***6 ways*** between city A and city B, and there are ***4 ways*** between city B and city C. How many states are there for passing the way from city A to city C and vice versa that the forward path is ***different from*** the backward? \n",
    "\n",
    "<div id=\"example1\" style=\"line-height:200%;\">\n",
    "\t<font color=#0003B8 size=2.5>\n",
    "<b>Answer:</b> </font>\n",
    "    \n",
    "There are `6 * 4 = 24` possible forward paths. Then the backward path may not be identical, so there are `24 - 1 = 23` ways for the backward. Consequently, the result is `24 * 23`.           "
   ]
  },
  {
   "cell_type": "markdown",
   "metadata": {},
   "source": [
    "<a class=\"anchor\" id=\"factorial\"></a>\n",
    "\n",
    "<div id=\"counting\" style=\"line-height:200%;\">\n",
    "\t<font color=#025200 size=5.89>\n",
    "Factorial  \n",
    "        </font>    \n",
    "</div> \n",
    "\n",
    "---        \n",
    "        \n",
    "If ***`N`*** beads are placed in ***`N`*** distinct spaces, then the number of states equals ***`N!`***. \n",
    "\n",
    "```\n",
    "N! = N * (N - 1) * ... * 1 = 1 * 2 * ... * N\n",
    "0! = 1\n",
    "```            "
   ]
  },
  {
   "cell_type": "markdown",
   "metadata": {},
   "source": [
    "<div class=\"alert alert-info\"><strong>Note:<br></strong> \n",
    "    \n",
    "If the ***circulation*** of objects is essential, then ***factorial multiplication*** is used. Whenever object circulation is ***not considered***, ***factorial division*** is utilized.</div>"
   ]
  },
  {
   "cell_type": "markdown",
   "metadata": {},
   "source": [
    "<div id=\"example2\" style=\"line-height:200%;\">\n",
    "\t<font color=#0D9000 size=2.5>\n",
    "<b>Example2:</b> </font>\n",
    "    \n",
    "Assume ***10 people*** have presentations at a conference. How many states are there that person A presentation is ***certainly after*** person B presentaion?  \n",
    "\n",
    "<div id=\"answer2\" style=\"line-height:200%;\">\n",
    "\t<font color=#0003B8 size=2.5>\n",
    "<b>Answer:</b> </font>\n",
    "    \n",
    "Consider a queue of people from `person_1` up to `person_10`. There are `10!` different ways for permuting these persons. Now, consider person A and B in the queue. In the case of setting person A presentation after person B presentation, there are `2!` different states for ***permuting*** these ***two persons' turns*** with another. So the answer is `10! / 2!` because of counting person A and B turns in the desired order."
   ]
  },
  {
   "cell_type": "markdown",
   "metadata": {},
   "source": [
    "<a class=\"anchor\" id=\"combination\"></a>\n",
    "\n",
    "<div id=\"combination\" style=\"line-height:200%;\">\n",
    "\t<font color=#025200 size=5.89>\n",
    "Combination  \n",
    "        </font>    \n",
    "</div> \n",
    "\n",
    "---        \n",
    "        \n",
    "To grab ***`k`*** beads from a bag containing ***`n`*** beads, the number of states equals to:"
   ]
  },
  {
   "cell_type": "markdown",
   "metadata": {},
   "source": [
    "<div>\n",
    "<font  size='4'>\n",
    "\n",
    "$c(n,k) = {n \\choose r} = \\frac{n!}{r!(n - r)!}$ \n",
    "    <br>\n",
    "<br>${n \\choose 0} = 1$\n",
    "&nbsp;&nbsp; ${n \\choose 1} = 1$\n",
    "&nbsp;&nbsp; ${n \\choose 2} = \\frac{n(n - 1)}{2!}$\n",
    "&nbsp;&nbsp; ${n \\choose 3} = \\frac{n(n - 1)(n - 2)}{3!}$ \n",
    "        </font>\n",
    "        </div>"
   ]
  },
  {
   "cell_type": "markdown",
   "metadata": {},
   "source": [
    "<div id=\"example3\" style=\"line-height:200%;\">\n",
    "\t<font color=#0D9000 size=2.5>\n",
    "<b>Example3:</b> </font>\n",
    "    \n",
    "How many ways can a group of `4` people be selected among `10` to ***include*** one particular person and ***exclude*** another?  \n",
    "\n",
    "<div id=\"answer3\" style=\"line-height:200%;\">\n",
    "\t<font color=#0003B8 size=2.5>\n",
    "<b>Answer:</b> </font>\n",
    "    \n",
    "by considering The ***excluded person***,there are `10 - 1 = 9` persons to choose from. Also there are `4 - 1 = 3` choices from `10 - 1 = 9` persons.Also for ***included person*** there are `3 - 1 = 2` choices among `9 - 1 = 8` "
   ]
  },
  {
   "cell_type": "markdown",
   "metadata": {},
   "source": [
    "<div>    \n",
    "    <font  size='4'>\n",
    "    \n",
    "${10 - 1 - 1 \\choose 4 - 1}$\n",
    "        </font>\n",
    "    </div> "
   ]
  },
  {
   "cell_type": "markdown",
   "metadata": {
    "tags": []
   },
   "source": [
    "\n",
    "<a class=\"anchor\" id=\"counting-principle\"></a>\n",
    "\n",
    "<div id=\"counting\" style=\"line-height:200%;\">\n",
    "\t<font color=#600700 size=5.89>\n",
    "Counting Principle  \n",
    "        </font>    \n",
    "</div> \n",
    "\n",
    "<a class=\"anchor\" id=\"counting-principle\"></a>\n",
    "\n",
    "<div id=\"counting\" style=\"line-height:200%;\">\n",
    "\t<font color=#025200 size=5.89>\n",
    "Counting Principle  \n",
    "        </font>    \n",
    "</div> \n",
    "\n",
    "<a class=\"anchor\" id=\"counting-principle\"></a>\n",
    "\n",
    "<div id=\"counting\" style=\"line-height:200%;\">\n",
    "\t<font color=#0003B8 size=5.89>\n",
    "Counting Principle  \n",
    "        </font>    \n",
    "</div> "
   ]
  }
 ],
 "metadata": {
  "kernelspec": {
   "display_name": "Python 3 (ipykernel)",
   "language": "python",
   "name": "python3"
  },
  "language_info": {
   "codemirror_mode": {
    "name": "ipython",
    "version": 3
   },
   "file_extension": ".py",
   "mimetype": "text/x-python",
   "name": "python",
   "nbconvert_exporter": "python",
   "pygments_lexer": "ipython3",
   "version": "3.9.12"
  },
  "vscode": {
   "interpreter": {
    "hash": "916dbcbb3f70747c44a77c7bcd40155683ae19c65e1c03b4aa3499c5328201f1"
   }
  }
 },
 "nbformat": 4,
 "nbformat_minor": 4
}
